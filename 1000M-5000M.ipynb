{
 "cells": [
  {
   "cell_type": "code",
   "execution_count": null,
   "metadata": {},
   "outputs": [],
   "source": [
    "import pandas as pd\n",
    "import matplotlib.pyplot as plt\n",
    "import seaborn as sns\n",
    "from sklearn.model_selection import train_test_split, RandomizedSearchCV\n",
    "from sklearn.metrics import mean_squared_error, mean_absolute_error\n",
    "from sklearn.preprocessing import LabelEncoder, QuantileTransformer\n",
    "import xgboost as xgb\n",
    "import numpy as np"
   ]
  },
  {
   "cell_type": "code",
   "execution_count": 1,
   "metadata": {},
   "outputs": [
    {
     "ename": "NameError",
     "evalue": "name 'pd' is not defined",
     "output_type": "error",
     "traceback": [
      "\u001b[1;31m---------------------------------------------------------------------------\u001b[0m",
      "\u001b[1;31mNameError\u001b[0m                                 Traceback (most recent call last)",
      "Cell \u001b[1;32mIn[1], line 2\u001b[0m\n\u001b[0;32m      1\u001b[0m \u001b[38;5;66;03m# Carregar o dataset\u001b[39;00m\n\u001b[1;32m----> 2\u001b[0m df \u001b[38;5;241m=\u001b[39m \u001b[43mpd\u001b[49m\u001b[38;5;241m.\u001b[39mread_csv(\u001b[38;5;124m'\u001b[39m\u001b[38;5;124m./datasets/casas_ponta_grossa.csv\u001b[39m\u001b[38;5;124m'\u001b[39m, delimiter\u001b[38;5;241m=\u001b[39m\u001b[38;5;124m'\u001b[39m\u001b[38;5;124m,\u001b[39m\u001b[38;5;124m'\u001b[39m)\n\u001b[0;32m      4\u001b[0m \u001b[38;5;66;03m# Retirando valores NaN:\u001b[39;00m\n\u001b[0;32m      5\u001b[0m df \u001b[38;5;241m=\u001b[39m df[df[\u001b[38;5;124m'\u001b[39m\u001b[38;5;124mQuartos\u001b[39m\u001b[38;5;124m'\u001b[39m]\u001b[38;5;241m.\u001b[39mnotna()]\n",
      "\u001b[1;31mNameError\u001b[0m: name 'pd' is not defined"
     ]
    }
   ],
   "source": [
    "# Carregar o dataset\n",
    "df = pd.read_csv('./datasets/casas_ponta_grossa.csv', delimiter=',')\n",
    "\n",
    "# Retirando valores NaN:\n",
    "df = df[df['Quartos'].notna()]\n",
    "df = df[df['Banheiros'].notna()]\n",
    "df = df[df['Suítes'].notna()]\n",
    "df = df[df['Vagas de Garagem'].notna()]\n",
    "df = df[df['Bairro'].notna()]\n",
    "df = df[df['Área Total'].notna()]\n",
    "dfFiltrado = df[df['Valor Venda'].notna()]\n",
    "\n",
    "# Filtrando as casas com valor de venda entre 1 milhão e 5 milhões\n",
    "dfFiltrado = dfFiltrado[(dfFiltrado['Valor Venda'] >= 1000000) & (dfFiltrado['Valor Venda'] <= 5000000)]\n",
    "\n",
    "# Engenharia de Features\n",
    "# Transformando a coluna 'Bairro' com LabelEncoder\n",
    "le = LabelEncoder()\n",
    "dfFiltrado['Bairro'] = le.fit_transform(dfFiltrado['Bairro'])\n",
    "\n",
    "# Normalizando as variáveis numéricas\n",
    "scaler = QuantileTransformer(output_distribution='normal')  # Usando QuantileTransformer para robustez\n",
    "dfFiltrado[['Área Total', 'Quartos', 'Banheiros', 'Suítes', 'Vagas de Garagem']] = scaler.fit_transform(\n",
    "    dfFiltrado[['Área Total', 'Quartos', 'Banheiros', 'Suítes', 'Vagas de Garagem']]\n",
    ")\n",
    "\n",
    "# Criando novas colunas\n",
    "dfFiltrado['Preco por m2'] = dfFiltrado['Valor Venda'] / dfFiltrado['Área Total']\n",
    "dfFiltrado['Faixa de Preço'] = pd.cut(dfFiltrado['Valor Venda'], bins=[1000000, 2000000, 3500000, 5000000], labels=['Baixo', 'Médio', 'Alto'])\n",
    "dfFiltrado['Quartos por m2'] = dfFiltrado['Quartos'] / dfFiltrado['Área Total']\n",
    "dfFiltrado['Banheiros por m2'] = dfFiltrado['Banheiros'] / dfFiltrado['Área Total']\n",
    "dfFiltrado['Vagas de Garagem por m2'] = dfFiltrado['Vagas de Garagem'] / dfFiltrado['Área Total']\n",
    "\n",
    "# Novas colunas sugeridas\n",
    "dfFiltrado['Área Total * Quartos'] = dfFiltrado['Área Total'] * dfFiltrado['Quartos']\n",
    "dfFiltrado['Área Total * Banheiros'] = dfFiltrado['Área Total'] * dfFiltrado['Banheiros']\n",
    "dfFiltrado['Diferença Preço - Média Bairro'] = dfFiltrado['Valor Venda'] - dfFiltrado.groupby('Bairro')['Valor Venda'].transform('mean')\n",
    "dfFiltrado['Bairro por Faixa de Preço'] = dfFiltrado['Bairro'] * dfFiltrado['Faixa de Preço'].cat.codes\n",
    "dfFiltrado['Área por Quartos'] = dfFiltrado['Área Total'] / dfFiltrado['Quartos']\n",
    "dfFiltrado['Área por Banheiros'] = dfFiltrado['Área Total'] / dfFiltrado['Banheiros']\n",
    "\n",
    "# Convertendo a coluna 'Faixa de Preço' para valores numéricos (inteiros)\n",
    "dfFiltrado['Faixa de Preço'] = dfFiltrado['Faixa de Preço'].cat.codes\n",
    "\n",
    "# Verificação da coerência dos dados\n",
    "# Verificar tipos de dados e valores nulos\n",
    "print(dfFiltrado.info())\n",
    "\n",
    "# Visualizar as primeiras linhas do dataset\n",
    "print(dfFiltrado.head())\n"
   ]
  }
 ],
 "metadata": {
  "kernelspec": {
   "display_name": "Python 3",
   "language": "python",
   "name": "python3"
  },
  "language_info": {
   "codemirror_mode": {
    "name": "ipython",
    "version": 3
   },
   "file_extension": ".py",
   "mimetype": "text/x-python",
   "name": "python",
   "nbconvert_exporter": "python",
   "pygments_lexer": "ipython3",
   "version": "3.11.3"
  }
 },
 "nbformat": 4,
 "nbformat_minor": 2
}
